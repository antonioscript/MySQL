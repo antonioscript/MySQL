{
  "nbformat": 4,
  "nbformat_minor": 0,
  "metadata": {
    "colab": {
      "name": "MySQL.ipynb",
      "provenance": [],
      "authorship_tag": "ABX9TyNx1MGmYgHqOluqmgPrpCZd",
      "include_colab_link": true
    },
    "kernelspec": {
      "name": "python3",
      "display_name": "Python 3"
    },
    "language_info": {
      "name": "python"
    }
  },
  "cells": [
    {
      "cell_type": "markdown",
      "metadata": {
        "id": "view-in-github",
        "colab_type": "text"
      },
      "source": [
        "<a href=\"https://colab.research.google.com/github/antonioscript/MySQL/blob/main/MySQL.ipynb\" target=\"_parent\"><img src=\"https://colab.research.google.com/assets/colab-badge.svg\" alt=\"Open In Colab\"/></a>"
      ]
    },
    {
      "cell_type": "markdown",
      "source": [
        "#Comandos Básicos MySQL"
      ],
      "metadata": {
        "id": "NbIhTHuKQ0WG"
      }
    },
    {
      "cell_type": "markdown",
      "source": [
        "###1 - SELECT (Consultas)"
      ],
      "metadata": {
        "id": "aGaB8LxyQ3E1"
      }
    },
    {
      "cell_type": "code",
      "source": [
        "#Nome do banco : banco\n",
        "#Nome das tabelas: clientes, pedidos, categorias, locais, etc\n",
        "- Exemplo1. Selecionando todas as linhas e colunas da tabela pedidos\n",
        "SELECT * FROM clientes;\n",
        "\n",
        "-- Exemplo2. Selecionando colunas específicas da tabela clientes\n",
        "SELECT ID_Cliente, Nome, Email FROM clientes;\n",
        "\n",
        "-- Exemplo3 . Selecionar apenas as 5 primeiras linhas da tabela produtos\n",
        "SELECT * FROM produtos\n",
        "LIMIT 5;\n",
        "\n",
        "-- Exemplo4. Dando Nomes Diferentes para o nome da coluna\n",
        "SELECT\n",
        "\tID_Cliente AS 'ID Cliente', \n",
        "    Nome AS 'Nome do Cliente', \n",
        "    Data_Nascimento AS 'Data de Nascimento',\n",
        "    Email AS 'Email do Cliente',\n",
        "FROM clientes\n",
        "\n",
        "-- Exemplo5. Ordenando a Tabela (ORDER BY)\n",
        "SELECT * FROM produtos\n",
        "ORDER BY Preco_Unit ASC; #OU DESC"
      ],
      "metadata": {
        "id": "2duJMMBPRCK0"
      },
      "execution_count": null,
      "outputs": []
    },
    {
      "cell_type": "markdown",
      "source": [
        "###2 - WHERE"
      ],
      "metadata": {
        "id": "pAr0RJ0RSgCl"
      }
    },
    {
      "cell_type": "code",
      "source": [
        "-- Exemplo1. Mostrar os produtos com preços iguais ou maiores que R$ 1.800\n",
        "SELECT * FROM produtos\n",
        "WHERE Preco_Unit >= 1800;\n",
        "\n",
        "-- Exemplo 2. Produtos da Marca DELL\n",
        "SELECT * FROM produtos\n",
        "WHERE Marca_produto = 'DELL';"
      ],
      "metadata": {
        "id": "T9tWjAyaXAD7"
      },
      "execution_count": null,
      "outputs": []
    },
    {
      "cell_type": "markdown",
      "source": [
        "###3 - And e OR"
      ],
      "metadata": {
        "id": "aF0eWfCtXEVG"
      }
    },
    {
      "cell_type": "code",
      "source": [
        "-- Exemplo1. Mostrar Clientes SOlteiros e  do Sexo Masculino\n",
        "SELECT * FROM clientes\n",
        "WHERE Estado_Civil = 'c' AND Sexo = 'M';\n",
        "\n",
        "-- Exemplo2. Mostrar Clientes Não Solteiros\n",
        "SELECT * FROM clientes\n",
        "WHERE NOT Estado_Civil = 'S'"
      ],
      "metadata": {
        "id": "6FSe3jJlXHb2"
      },
      "execution_count": null,
      "outputs": []
    },
    {
      "cell_type": "markdown",
      "source": [
        "###4 - Funções de Agregação \n",
        "- Count \n",
        "- Count(*) \n",
        "-Count(Distinc) \n",
        "-Sum\n",
        "-AVG\n",
        "-MIN\n",
        "-MAX"
      ],
      "metadata": {
        "id": "Uhk46wMFhbzD"
      }
    },
    {
      "cell_type": "code",
      "source": [
        "-- 1.COUNT(Nome Coluna) -> Quantidade de linhas da coluna 'Nome'\n",
        "SELECT \n",
        "\tCOUNT(nome)\n",
        "FROM clientes;\n",
        "\n",
        "-- 2. Quantidade de Linhas da Tabela\n",
        "SELECT \n",
        "\tCOUNT(nome)\n",
        "FROM clientes;\n",
        "\n",
        "-- 2. Descobrindo a quantidade de Escolaridades DISTINCT \n",
        "SELECT \n",
        "\tCOUNT(DISTINCT Escolaridade)\n",
        "FROM clientes;\n",
        "\n",
        "-- 2. SUM, AVG, MIN, MAX\n",
        "SELECT\n",
        "\tSUM(Receita_Venda) AS 'Soma da Receita',\n",
        "    AVG(Receita_Venda) AS 'Média da Receita', \n",
        "    MIN(Receita_Venda) AS 'Menor Valor da Receita',\n",
        "    Max(Receita_Venda) AS 'Maior valor da Receita'\n",
        "FROM pedidos;"
      ],
      "metadata": {
        "id": "guxZtAPxh_kn"
      },
      "execution_count": null,
      "outputs": []
    },
    {
      "cell_type": "markdown",
      "source": [
        "###5 - Groupby"
      ],
      "metadata": {
        "id": "MB1QO-MKkzTU"
      }
    },
    {
      "cell_type": "code",
      "source": [
        "-- 1 - Quantidade de Clientes por Sexo\n",
        "SELECT \n",
        "\tSexo,\n",
        "    COUNT(*) AS 'QTD Clientes'\n",
        "FROM clientes\n",
        "GROUP BY Sexo;\n",
        "\n",
        "\n",
        "-- 2 - Total de Produtos por marca\n",
        "SELECT \n",
        "\tMarca_Produto,\n",
        "    COUNT(*) AS 'QTD Produtos'\n",
        "FROM produtos\n",
        "GROUP BY Marca_Produto;\n",
        "\n",
        "\n",
        "-- 3 - Qual A Receita Total e o Custo total de cada loja\n",
        "SELECT \n",
        "\tID_Loja,\n",
        "    SUM(Receita_Venda) AS 'Receita Total', \n",
        "    SUM(Custo_Venda) AS 'Custo Total'\n",
        "FROM pedidos\n",
        "GROUP BY ID_Loja;"
      ],
      "metadata": {
        "id": "ExRbk-eCk3Xv"
      },
      "execution_count": null,
      "outputs": []
    },
    {
      "cell_type": "markdown",
      "source": [
        "###6 - INSERT"
      ],
      "metadata": {
        "id": "FhCVSm8h0uTq"
      }
    },
    {
      "cell_type": "code",
      "source": [
        "INSERT INTO discentes (nome, curso)\n",
        "VALUES (\"Sebastião\", \"Economia\");"
      ],
      "metadata": {
        "id": "PYqNVYbDOP_5"
      },
      "execution_count": null,
      "outputs": []
    },
    {
      "cell_type": "markdown",
      "source": [
        "###6 - UPDATE"
      ],
      "metadata": {
        "id": "0I-y-NrvP8Yq"
      }
    },
    {
      "cell_type": "code",
      "source": [
        "UPDATE discentes\n",
        "SET curso = 'UX/UI'\n",
        "WHERE id = '1';"
      ],
      "metadata": {
        "id": "IX4OgOZpQXWL"
      },
      "execution_count": null,
      "outputs": []
    },
    {
      "cell_type": "markdown",
      "source": [
        "###7 - Delete"
      ],
      "metadata": {
        "id": "r1g0iPOIQQAr"
      }
    },
    {
      "cell_type": "code",
      "source": [
        "\n",
        "DELETE FROM discentes\n",
        "WHERE nome = 'Antônio'"
      ],
      "metadata": {
        "id": "RVmW-R_lQVfd"
      },
      "execution_count": null,
      "outputs": []
    }
  ]
}